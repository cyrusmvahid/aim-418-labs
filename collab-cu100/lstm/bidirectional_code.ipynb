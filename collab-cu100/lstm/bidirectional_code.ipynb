{
 "cells": [
  {
   "cell_type": "markdown",
   "metadata": {},
   "source": [
    "# change your runtime\n",
    "![](../images/runtime1.png)\n",
    "![](../images/runtime2.png)"
   ]
  },
  {
   "cell_type": "code",
   "execution_count": null,
   "metadata": {},
   "outputs": [],
   "source": [
    "#Please run this block if you would like to use GPU\n",
    "!apt update -qq;\n",
    "!wget https://developer.nvidia.com/compute/cuda/10.1/Prod/local_installers/cuda-repo-ubuntu1604-10-1-local-10.1.168-418.67_1.0-1_amd64.deb\n",
    "!dpkg -i cuda-repo-ubuntu1604-10-1-local-10.1.168-418.67_1.0-1_amd64.deb\n",
    "!apt-key add /var/cuda-repo-10-1-local-10.1.168-418.67/7fa2af80.pub\n",
    "!dpkg --configure -a\n",
    "!apt-get update\n",
    "!apt-get install cuda\n",
    "!pip install mxnet-cu100"
   ]
  },
  {
   "cell_type": "code",
   "execution_count": null,
   "metadata": {},
   "outputs": [],
   "source": [
    "# or run this for cpu only\n",
    "!pip install mxnet"
   ]
  },
  {
   "cell_type": "markdown",
   "metadata": {},
   "source": [
    "# Stacked Bi-directional LSTMs in Gluon"
   ]
  },
  {
   "cell_type": "markdown",
   "metadata": {},
   "source": [
    "Starting with a plain RNN, we'll look at various modifications and build up to the complete Stacked Bi-directional LSTM model."
   ]
  },
  {
   "cell_type": "markdown",
   "metadata": {},
   "source": [
    "* Base: __RNN__\n",
    "* Modification: __Stacked RNN__\n",
    "* Modification: __Bi-directional RNN__\n",
    "* Modification: __LSTM__\n",
    "* Combined: __Stacked Bi-directional LSTM__"
   ]
  },
  {
   "cell_type": "markdown",
   "metadata": {},
   "source": [
    "# Base: RNN"
   ]
  },
  {
   "cell_type": "markdown",
   "metadata": {},
   "source": [
    "### Implicit initial hidden state"
   ]
  },
  {
   "cell_type": "code",
   "execution_count": 10,
   "metadata": {},
   "outputs": [],
   "source": [
    "import mxnet as mx"
   ]
  },
  {
   "cell_type": "code",
   "execution_count": 11,
   "metadata": {},
   "outputs": [
    {
     "data": {
      "text/plain": [
       "\n",
       "[[0.0939405  0.9211576  0.5759465 ]\n",
       " [0.08311249 0.9292962  0.27771857]\n",
       " [0.31856894 0.0093567  0.6674104 ]\n",
       " [0.8423421  0.13179787 0.6471741 ]\n",
       " [0.7163272  0.84138614 0.2894061 ]]\n",
       "<NDArray 5x3 @cpu(0)>"
      ]
     },
     "execution_count": 11,
     "metadata": {},
     "output_type": "execute_result"
    }
   ],
   "source": [
    "sequence_length = 4\n",
    "batch_size = 5\n",
    "channels = 3\n",
    "\n",
    "inputs = mx.nd.random.uniform(shape=(sequence_length, batch_size, channels))\n",
    "first_input = inputs[0]\n",
    "first_input"
   ]
  },
  {
   "cell_type": "code",
   "execution_count": 16,
   "metadata": {},
   "outputs": [],
   "source": [
    "hid_layers = 1\n",
    "hid_units = 6\n",
    "\n",
    "rnn = mx.gluon.rnn.RNN(hidden_size=hid_units, num_layers=hid_layers, layout='TNC')\n"
   ]
  },
  {
   "cell_type": "code",
   "execution_count": 17,
   "metadata": {},
   "outputs": [],
   "source": [
    "# lazy initialize weights\n",
    "rnn.initialize()"
   ]
  },
  {
   "cell_type": "code",
   "execution_count": 23,
   "metadata": {},
   "outputs": [],
   "source": [
    "# since not provided, will initialize hidden state to zeros of approprate shape\n",
    "outputs = rnn(inputs)"
   ]
  },
  {
   "cell_type": "code",
   "execution_count": 24,
   "metadata": {},
   "outputs": [
    {
     "data": {
      "text/plain": [
       "(4, 5, 6)"
      ]
     },
     "execution_count": 24,
     "metadata": {},
     "output_type": "execute_result"
    }
   ],
   "source": [
    "# for a plain rnn, output is the same as hidden state. get it for every time step.\n",
    "outputs.shape"
   ]
  },
  {
   "cell_type": "code",
   "execution_count": 25,
   "metadata": {},
   "outputs": [
    {
     "data": {
      "text/plain": [
       "\n",
       "[[0.         0.06878319 0.02269816 0.         0.00092114 0.        ]\n",
       " [0.         0.11525708 0.02774326 0.         0.03441893 0.        ]\n",
       " [0.         0.05674308 0.00495926 0.         0.03428157 0.        ]\n",
       " [0.         0.06954266 0.02817963 0.         0.         0.        ]\n",
       " [0.         0.08359297 0.01891519 0.         0.02883152 0.        ]]\n",
       "<NDArray 5x6 @cpu(0)>"
      ]
     },
     "execution_count": 25,
     "metadata": {},
     "output_type": "execute_result"
    }
   ],
   "source": [
    "final_output = outputs[-1]\n",
    "final_output"
   ]
  },
  {
   "cell_type": "markdown",
   "metadata": {},
   "source": [
    "### Explicit initial hidden state"
   ]
  },
  {
   "cell_type": "code",
   "execution_count": 26,
   "metadata": {},
   "outputs": [],
   "source": [
    "hid_init = mx.nd.random.uniform(shape=(hid_layers, batch_size, hid_units))"
   ]
  },
  {
   "cell_type": "code",
   "execution_count": 27,
   "metadata": {},
   "outputs": [],
   "source": [
    "# get tuple returned\n",
    "outputs, hid_states = rnn(inputs, hid_init)"
   ]
  },
  {
   "cell_type": "code",
   "execution_count": 28,
   "metadata": {},
   "outputs": [
    {
     "data": {
      "text/plain": [
       "(4, 5, 6)"
      ]
     },
     "execution_count": 28,
     "metadata": {},
     "output_type": "execute_result"
    }
   ],
   "source": [
    "outputs.shape"
   ]
  },
  {
   "cell_type": "code",
   "execution_count": 29,
   "metadata": {},
   "outputs": [
    {
     "data": {
      "text/plain": [
       "\n",
       "[[0.         0.06881174 0.02271482 0.         0.00096867 0.        ]\n",
       " [0.         0.11529209 0.02777055 0.         0.03446553 0.        ]\n",
       " [0.         0.05676252 0.00497272 0.         0.03430802 0.        ]\n",
       " [0.         0.06954573 0.02818356 0.         0.         0.        ]\n",
       " [0.         0.08362921 0.01894405 0.         0.02887885 0.        ]]\n",
       "<NDArray 5x6 @cpu(0)>"
      ]
     },
     "execution_count": 29,
     "metadata": {},
     "output_type": "execute_result"
    }
   ],
   "source": [
    "final_output = outputs[-1]\n",
    "final_output"
   ]
  },
  {
   "cell_type": "code",
   "execution_count": 30,
   "metadata": {},
   "outputs": [
    {
     "data": {
      "text/plain": [
       "1"
      ]
     },
     "execution_count": 30,
     "metadata": {},
     "output_type": "execute_result"
    }
   ],
   "source": [
    "# single hidden state between blocks for plain rnn\n",
    "len(hid_states)"
   ]
  },
  {
   "cell_type": "code",
   "execution_count": 31,
   "metadata": {},
   "outputs": [
    {
     "data": {
      "text/plain": [
       "(1, 5, 6)"
      ]
     },
     "execution_count": 31,
     "metadata": {},
     "output_type": "execute_result"
    }
   ],
   "source": [
    "# only get for last time step\n",
    "hid_states[0].shape"
   ]
  },
  {
   "cell_type": "code",
   "execution_count": 32,
   "metadata": {},
   "outputs": [
    {
     "data": {
      "text/plain": [
       "\n",
       "[[[0.         0.06881174 0.02271482 0.         0.00096867 0.        ]\n",
       "  [0.         0.11529209 0.02777055 0.         0.03446553 0.        ]\n",
       "  [0.         0.05676252 0.00497272 0.         0.03430802 0.        ]\n",
       "  [0.         0.06954573 0.02818356 0.         0.         0.        ]\n",
       "  [0.         0.08362921 0.01894405 0.         0.02887885 0.        ]]]\n",
       "<NDArray 1x5x6 @cpu(0)>"
      ]
     },
     "execution_count": 32,
     "metadata": {},
     "output_type": "execute_result"
    }
   ],
   "source": [
    "# same as final_output\n",
    "hid_states[0]"
   ]
  },
  {
   "cell_type": "markdown",
   "metadata": {},
   "source": [
    "# Modification: Stacked RNN"
   ]
  },
  {
   "cell_type": "code",
   "execution_count": 88,
   "metadata": {},
   "outputs": [],
   "source": [
    "hid_layers = 2"
   ]
  },
  {
   "cell_type": "code",
   "execution_count": 33,
   "metadata": {},
   "outputs": [],
   "source": [
    "stack_rnn = mx.gluon.rnn.RNN(hidden_size=hid_units, num_layers=hid_layers, layout='TNC')\n",
    "stack_rnn.initialize()"
   ]
  },
  {
   "cell_type": "code",
   "execution_count": 34,
   "metadata": {},
   "outputs": [],
   "source": [
    "hid_init = mx.nd.random.uniform(shape=(hid_layers, batch_size, hid_units))\n",
    "outputs, hid_states = stack_rnn(inputs, hid_init)"
   ]
  },
  {
   "cell_type": "code",
   "execution_count": 35,
   "metadata": {},
   "outputs": [
    {
     "data": {
      "text/plain": [
       "(4, 5, 6)"
      ]
     },
     "execution_count": 35,
     "metadata": {},
     "output_type": "execute_result"
    }
   ],
   "source": [
    "# output unchanged by number of layers. once again, one per time step\n",
    "outputs.shape"
   ]
  },
  {
   "cell_type": "code",
   "execution_count": 36,
   "metadata": {},
   "outputs": [
    {
     "data": {
      "text/plain": [
       "\n",
       "[[2.90030371e-02 2.87810881e-02 0.00000000e+00 1.85078196e-02\n",
       "  0.00000000e+00 6.03503222e-03]\n",
       " [2.74311658e-02 5.46624884e-02 0.00000000e+00 4.41584922e-02\n",
       "  2.15570033e-02 1.07452795e-02]\n",
       " [0.00000000e+00 4.73658554e-02 0.00000000e+00 5.04149981e-02\n",
       "  7.92650972e-05 0.00000000e+00]\n",
       " [4.17802446e-02 2.40432117e-02 0.00000000e+00 8.91629327e-03\n",
       "  0.00000000e+00 9.00023524e-03]\n",
       " [3.30022424e-02 2.55878046e-02 0.00000000e+00 2.68065743e-02\n",
       "  2.50780936e-02 1.74692664e-02]]\n",
       "<NDArray 5x6 @cpu(0)>"
      ]
     },
     "execution_count": 36,
     "metadata": {},
     "output_type": "execute_result"
    }
   ],
   "source": [
    "final_output = outputs[-1]\n",
    "final_output"
   ]
  },
  {
   "cell_type": "code",
   "execution_count": 37,
   "metadata": {},
   "outputs": [
    {
     "data": {
      "text/plain": [
       "1"
      ]
     },
     "execution_count": 37,
     "metadata": {},
     "output_type": "execute_result"
    }
   ],
   "source": [
    "# single hidden state between blocks for plain rnn\n",
    "len(hid_states)"
   ]
  },
  {
   "cell_type": "code",
   "execution_count": 38,
   "metadata": {},
   "outputs": [
    {
     "data": {
      "text/plain": [
       "(1, 5, 6)"
      ]
     },
     "execution_count": 38,
     "metadata": {},
     "output_type": "execute_result"
    }
   ],
   "source": [
    "# but now have more hidden states (last step only)\n",
    "hid_states[0].shape"
   ]
  },
  {
   "cell_type": "code",
   "execution_count": 39,
   "metadata": {},
   "outputs": [
    {
     "data": {
      "text/plain": [
       "\n",
       "[[[2.90030371e-02 2.87810881e-02 0.00000000e+00 1.85078196e-02\n",
       "   0.00000000e+00 6.03503222e-03]\n",
       "  [2.74311658e-02 5.46624884e-02 0.00000000e+00 4.41584922e-02\n",
       "   2.15570033e-02 1.07452795e-02]\n",
       "  [0.00000000e+00 4.73658554e-02 0.00000000e+00 5.04149981e-02\n",
       "   7.92650972e-05 0.00000000e+00]\n",
       "  [4.17802446e-02 2.40432117e-02 0.00000000e+00 8.91629327e-03\n",
       "   0.00000000e+00 9.00023524e-03]\n",
       "  [3.30022424e-02 2.55878046e-02 0.00000000e+00 2.68065743e-02\n",
       "   2.50780936e-02 1.74692664e-02]]]\n",
       "<NDArray 1x5x6 @cpu(0)>"
      ]
     },
     "execution_count": 39,
     "metadata": {},
     "output_type": "execute_result"
    }
   ],
   "source": [
    "# see last element is same as output (first is not part of output)\n",
    "hid_states[0]"
   ]
  },
  {
   "cell_type": "markdown",
   "metadata": {},
   "source": [
    "# Modification: Bi-directional RNNs"
   ]
  },
  {
   "cell_type": "code",
   "execution_count": 40,
   "metadata": {},
   "outputs": [],
   "source": [
    "hid_layers = 1\n",
    "bidirectional = True"
   ]
  },
  {
   "cell_type": "code",
   "execution_count": 41,
   "metadata": {},
   "outputs": [],
   "source": [
    "bidir_rnn = mx.gluon.rnn.RNN(hidden_size=hid_units, num_layers=hid_layers, layout='TNC', bidirectional=bidirectional)\n",
    "bidir_rnn.initialize()"
   ]
  },
  {
   "cell_type": "code",
   "execution_count": 42,
   "metadata": {},
   "outputs": [],
   "source": [
    "# now hid_layers * 2, initial hidden states for forward and backward rnns.\n",
    "hid_init = mx.nd.random.uniform(shape=(hid_layers * 2, batch_size, hid_units))\n",
    "outputs, hid_states = bidir_rnn(inputs, hid_init)"
   ]
  },
  {
   "cell_type": "code",
   "execution_count": 43,
   "metadata": {},
   "outputs": [
    {
     "data": {
      "text/plain": [
       "(4, 5, 12)"
      ]
     },
     "execution_count": 43,
     "metadata": {},
     "output_type": "execute_result"
    }
   ],
   "source": [
    "# hid_units * 2 channels\n",
    "# 6 from forward rnn, 6 from backward rnn, concatenated to give 12\n",
    "outputs.shape"
   ]
  },
  {
   "cell_type": "code",
   "execution_count": 44,
   "metadata": {},
   "outputs": [
    {
     "data": {
      "text/plain": [
       "\n",
       "[[0.01669596 0.05843757 0.         0.         0.         0.\n",
       "  0.         0.05363762 0.02028696 0.         0.01502694 0.03977481]\n",
       " [0.04652181 0.07698372 0.         0.         0.         0.\n",
       "  0.         0.05344069 0.04430495 0.         0.08617246 0.        ]\n",
       " [0.05922109 0.03268612 0.         0.         0.02816408 0.\n",
       "  0.         0.00220778 0.00385158 0.         0.         0.04738104]\n",
       " [0.00424436 0.06644951 0.         0.         0.         0.\n",
       "  0.         0.08911546 0.02351735 0.         0.08870225 0.02079489]\n",
       " [0.02377889 0.04763812 0.         0.         0.         0.\n",
       "  0.         0.04784007 0.01109214 0.         0.         0.        ]]\n",
       "<NDArray 5x12 @cpu(0)>"
      ]
     },
     "execution_count": 44,
     "metadata": {},
     "output_type": "execute_result"
    }
   ],
   "source": [
    "final_output = outputs[-1]\n",
    "final_output"
   ]
  },
  {
   "cell_type": "code",
   "execution_count": 45,
   "metadata": {},
   "outputs": [
    {
     "data": {
      "text/plain": [
       "\n",
       "[[0.01669596 0.05843757 0.         0.         0.         0.        ]\n",
       " [0.04652181 0.07698372 0.         0.         0.         0.        ]\n",
       " [0.05922109 0.03268612 0.         0.         0.02816408 0.        ]\n",
       " [0.00424436 0.06644951 0.         0.         0.         0.        ]\n",
       " [0.02377889 0.04763812 0.         0.         0.         0.        ]]\n",
       "<NDArray 5x6 @cpu(0)>"
      ]
     },
     "execution_count": 45,
     "metadata": {},
     "output_type": "execute_result"
    }
   ],
   "source": [
    "# from forward rnn\n",
    "final_output[:,:6]"
   ]
  },
  {
   "cell_type": "code",
   "execution_count": 46,
   "metadata": {},
   "outputs": [
    {
     "data": {
      "text/plain": [
       "1"
      ]
     },
     "execution_count": 46,
     "metadata": {},
     "output_type": "execute_result"
    }
   ],
   "source": [
    "# single hidden state between blocks for plain rnn\n",
    "len(hid_states)"
   ]
  },
  {
   "cell_type": "code",
   "execution_count": 47,
   "metadata": {},
   "outputs": [
    {
     "data": {
      "text/plain": [
       "\n",
       "[[[0.01669596 0.05843757 0.         0.         0.         0.        ]\n",
       "  [0.04652181 0.07698372 0.         0.         0.         0.        ]\n",
       "  [0.05922109 0.03268612 0.         0.         0.02816408 0.        ]\n",
       "  [0.00424436 0.06644951 0.         0.         0.         0.        ]\n",
       "  [0.02377889 0.04763812 0.         0.         0.         0.        ]]\n",
       "\n",
       " [[0.         0.         0.05309198 0.07664979 0.01742797 0.        ]\n",
       "  [0.         0.         0.03257876 0.06573668 0.00515372 0.        ]\n",
       "  [0.         0.01129739 0.06318042 0.01553865 0.04551434 0.        ]\n",
       "  [0.         0.03893747 0.08874083 0.01155296 0.07271851 0.        ]\n",
       "  [0.         0.         0.06543292 0.04324468 0.04356055 0.        ]]]\n",
       "<NDArray 2x5x6 @cpu(0)>"
      ]
     },
     "execution_count": 47,
     "metadata": {},
     "output_type": "execute_result"
    }
   ],
   "source": [
    "# forward rnn hidden, then backward rnn hidden\n",
    "# BUT from different time steps! orward rnn hidden from last time step, backward rnn hidden from first time step.\n",
    "# useful when feeding a decoder, otherwise backward rnn only seen 1 example by step n.\n",
    "hid_states[0]"
   ]
  },
  {
   "cell_type": "code",
   "execution_count": 48,
   "metadata": {},
   "outputs": [
    {
     "data": {
      "text/plain": [
       "\n",
       "[[0.01669596 0.05843757 0.         0.         0.         0.        ]\n",
       " [0.04652181 0.07698372 0.         0.         0.         0.        ]\n",
       " [0.05922109 0.03268612 0.         0.         0.02816408 0.        ]\n",
       " [0.00424436 0.06644951 0.         0.         0.         0.        ]\n",
       " [0.02377889 0.04763812 0.         0.         0.         0.        ]]\n",
       "<NDArray 5x6 @cpu(0)>"
      ]
     },
     "execution_count": 48,
     "metadata": {},
     "output_type": "execute_result"
    }
   ],
   "source": [
    "# same as first 6 channels of output at last stage\n",
    "hid_states[0][0]"
   ]
  },
  {
   "cell_type": "code",
   "execution_count": 49,
   "metadata": {},
   "outputs": [
    {
     "data": {
      "text/plain": [
       "\n",
       "[[0.06437154 0.05151022 0.         0.         0.01762882 0.\n",
       "  0.         0.         0.05309198 0.07664979 0.01742797 0.        ]\n",
       " [0.07620252 0.01413342 0.02534905 0.02782245 0.         0.\n",
       "  0.         0.         0.03257876 0.06573668 0.00515372 0.        ]\n",
       " [0.04417444 0.0314437  0.         0.         0.         0.\n",
       "  0.         0.01129739 0.06318042 0.01553865 0.04551434 0.        ]\n",
       " [0.         0.14102149 0.07606754 0.0224137  0.01174133 0.\n",
       "  0.         0.03893747 0.08874083 0.01155296 0.07271851 0.        ]\n",
       " [0.02028606 0.05943597 0.         0.         0.         0.\n",
       "  0.         0.         0.06543292 0.04324468 0.04356055 0.        ]]\n",
       "<NDArray 5x12 @cpu(0)>"
      ]
     },
     "execution_count": 49,
     "metadata": {},
     "output_type": "execute_result"
    }
   ],
   "source": [
    "first_output = outputs[0]\n",
    "first_output"
   ]
  },
  {
   "cell_type": "code",
   "execution_count": 50,
   "metadata": {},
   "outputs": [
    {
     "data": {
      "text/plain": [
       "\n",
       "[[0.         0.         0.05309198 0.07664979 0.01742797 0.        ]\n",
       " [0.         0.         0.03257876 0.06573668 0.00515372 0.        ]\n",
       " [0.         0.01129739 0.06318042 0.01553865 0.04551434 0.        ]\n",
       " [0.         0.03893747 0.08874083 0.01155296 0.07271851 0.        ]\n",
       " [0.         0.         0.06543292 0.04324468 0.04356055 0.        ]]\n",
       "<NDArray 5x6 @cpu(0)>"
      ]
     },
     "execution_count": 50,
     "metadata": {},
     "output_type": "execute_result"
    }
   ],
   "source": [
    "# from backward rnn\n",
    "first_output[:,6:]"
   ]
  },
  {
   "cell_type": "code",
   "execution_count": 51,
   "metadata": {},
   "outputs": [
    {
     "data": {
      "text/plain": [
       "\n",
       "[[0.         0.         0.05309198 0.07664979 0.01742797 0.        ]\n",
       " [0.         0.         0.03257876 0.06573668 0.00515372 0.        ]\n",
       " [0.         0.01129739 0.06318042 0.01553865 0.04551434 0.        ]\n",
       " [0.         0.03893747 0.08874083 0.01155296 0.07271851 0.        ]\n",
       " [0.         0.         0.06543292 0.04324468 0.04356055 0.        ]]\n",
       "<NDArray 5x6 @cpu(0)>"
      ]
     },
     "execution_count": 51,
     "metadata": {},
     "output_type": "execute_result"
    }
   ],
   "source": [
    "# same as last 6 channels of output at first stage\n",
    "hid_states[0][1]"
   ]
  },
  {
   "cell_type": "markdown",
   "metadata": {},
   "source": [
    "# Modification: LSTM"
   ]
  },
  {
   "cell_type": "code",
   "execution_count": 108,
   "metadata": {},
   "outputs": [],
   "source": [
    "hid_layers = 1"
   ]
  },
  {
   "cell_type": "code",
   "execution_count": 109,
   "metadata": {},
   "outputs": [],
   "source": [
    "lstm = mx.gluon.rnn.LSTM(hidden_size=hid_units, num_layers=hid_layers, layout='TNC')\n",
    "lstm.initialize()"
   ]
  },
  {
   "cell_type": "code",
   "execution_count": 110,
   "metadata": {},
   "outputs": [],
   "source": [
    "hid_init_h = mx.nd.random.uniform(shape=(hid_layers, batch_size, hid_units))\n",
    "hid_init_c = mx.nd.random.uniform(shape=(hid_layers, batch_size, hid_units))\n",
    "hid_init = [hid_init_h, hid_init_c]\n",
    "outputs, hid_states = lstm(inputs, hid_init)"
   ]
  },
  {
   "cell_type": "code",
   "execution_count": 111,
   "metadata": {},
   "outputs": [
    {
     "data": {
      "text/plain": [
       "(4, 5, 6)"
      ]
     },
     "execution_count": 111,
     "metadata": {},
     "output_type": "execute_result"
    }
   ],
   "source": [
    "# output same as before\n",
    "outputs.shape"
   ]
  },
  {
   "cell_type": "code",
   "execution_count": 112,
   "metadata": {},
   "outputs": [
    {
     "data": {
      "text/plain": [
       "\n",
       "[[ 0.01253454 -0.02345554  0.02795083  0.02464588  0.00788901  0.02751796]\n",
       " [ 0.01594986 -0.0184415   0.03759725  0.01181254  0.0063988   0.02784991]\n",
       " [ 0.0094468  -0.00300365  0.03994624 -0.00055172  0.03623314  0.01056249]\n",
       " [ 0.01638241  0.00139618  0.04743286  0.01258996  0.02631953  0.02926661]\n",
       " [ 0.00316927 -0.01528073  0.04393305  0.00166157  0.01046809  0.01166981]]\n",
       "<NDArray 5x6 @cpu(0)>"
      ]
     },
     "execution_count": 112,
     "metadata": {},
     "output_type": "execute_result"
    }
   ],
   "source": [
    "final_output = outputs[-1]\n",
    "final_output"
   ]
  },
  {
   "cell_type": "code",
   "execution_count": 113,
   "metadata": {},
   "outputs": [
    {
     "data": {
      "text/plain": [
       "2"
      ]
     },
     "execution_count": 113,
     "metadata": {},
     "output_type": "execute_result"
    }
   ],
   "source": [
    "# now have two cell memory and hidden state\n",
    "len(hid_states)"
   ]
  },
  {
   "cell_type": "code",
   "execution_count": 114,
   "metadata": {},
   "outputs": [
    {
     "data": {
      "text/plain": [
       "(1, 5, 6)"
      ]
     },
     "execution_count": 114,
     "metadata": {},
     "output_type": "execute_result"
    }
   ],
   "source": [
    "# hidden state (bottom line in diagram)\n",
    "hid_states[0].shape"
   ]
  },
  {
   "cell_type": "code",
   "execution_count": 115,
   "metadata": {},
   "outputs": [
    {
     "data": {
      "text/plain": [
       "(1, 5, 6)"
      ]
     },
     "execution_count": 115,
     "metadata": {},
     "output_type": "execute_result"
    }
   ],
   "source": [
    "# cell memory (top line in diagram)\n",
    "hid_states[1].shape"
   ]
  },
  {
   "cell_type": "code",
   "execution_count": 116,
   "metadata": {},
   "outputs": [
    {
     "data": {
      "text/plain": [
       "\n",
       "[[[ 0.01253454 -0.02345554  0.02795083  0.02464588  0.00788901  0.02751796]\n",
       "  [ 0.01594986 -0.0184415   0.03759725  0.01181254  0.0063988   0.02784991]\n",
       "  [ 0.0094468  -0.00300365  0.03994624 -0.00055172  0.03623314  0.01056249]\n",
       "  [ 0.01638241  0.00139618  0.04743286  0.01258996  0.02631953  0.02926661]\n",
       "  [ 0.00316927 -0.01528073  0.04393305  0.00166157  0.01046809  0.01166981]]]\n",
       "<NDArray 1x5x6 @cpu(0)>"
      ]
     },
     "execution_count": 116,
     "metadata": {},
     "output_type": "execute_result"
    }
   ],
   "source": [
    "# same as the output for uni-directional and non-stacked case\n",
    "hid_states[0]"
   ]
  },
  {
   "cell_type": "markdown",
   "metadata": {},
   "source": [
    "# Combined: Stacked Bi-directional LSTM"
   ]
  },
  {
   "cell_type": "code",
   "execution_count": 117,
   "metadata": {},
   "outputs": [],
   "source": [
    "hid_layers = 2\n",
    "bidirectional = True"
   ]
  },
  {
   "cell_type": "code",
   "execution_count": 118,
   "metadata": {},
   "outputs": [],
   "source": [
    "stack_bidir_lstm = mx.gluon.rnn.LSTM(hidden_size=hid_units, num_layers=hid_layers, layout='TNC', bidirectional=bidirectional)\n",
    "stack_bidir_lstm.initialize()"
   ]
  },
  {
   "cell_type": "code",
   "execution_count": 119,
   "metadata": {},
   "outputs": [],
   "source": [
    "# 2 * hid_layers (since bi-directional)\n",
    "hid_init_h = mx.nd.random.uniform(shape=(2*hid_layers, batch_size, hid_units))\n",
    "hid_init_c = mx.nd.random.uniform(shape=(2*hid_layers, batch_size, hid_units))\n",
    "hid_init = [hid_init_h, hid_init_c]\n",
    "outputs, hid_states = stack_bidir_lstm(inputs, hid_init)"
   ]
  },
  {
   "cell_type": "code",
   "execution_count": 120,
   "metadata": {},
   "outputs": [
    {
     "data": {
      "text/plain": [
       "(4, 5, 12)"
      ]
     },
     "execution_count": 120,
     "metadata": {},
     "output_type": "execute_result"
    }
   ],
   "source": [
    "# 2 * hid_units = 12 channels since bi-directional\n",
    "outputs.shape"
   ]
  },
  {
   "cell_type": "code",
   "execution_count": 121,
   "metadata": {},
   "outputs": [
    {
     "data": {
      "text/plain": [
       "\n",
       "[[ 0.02836313  0.00606763  0.02310923  0.00844923  0.03136069  0.00835426\n",
       "   0.00834884  0.22160307  0.16497645  0.17498061  0.17497027  0.16968904]\n",
       " [ 0.02018425 -0.00205736  0.02368148  0.01517256  0.02936829  0.01105657\n",
       "  -0.00114159  0.02814094  0.06628538  0.18898237  0.02543253  0.16276605]\n",
       " [ 0.02180842  0.02542746  0.04244835 -0.00741896  0.03391297  0.00343686\n",
       "   0.18560167  0.15380849  0.1863319   0.14486022  0.11376306  0.03071362]\n",
       " [ 0.01190888  0.00480322  0.01914669  0.004719    0.01296413 -0.00054099\n",
       "   0.05539425  0.09306861  0.21310844  0.12720783  0.08961899  0.15656401]\n",
       " [ 0.01545303  0.00941906  0.02581433  0.01284648  0.00813204  0.00568986\n",
       "   0.19248244  0.0284084   0.17106406  0.02503861  0.10314985  0.01844846]]\n",
       "<NDArray 5x12 @cpu(0)>"
      ]
     },
     "execution_count": 121,
     "metadata": {},
     "output_type": "execute_result"
    }
   ],
   "source": [
    "final_output = outputs[-1]\n",
    "final_output"
   ]
  },
  {
   "cell_type": "code",
   "execution_count": 122,
   "metadata": {},
   "outputs": [
    {
     "data": {
      "text/plain": [
       "\n",
       "[[ 0.02836313  0.00606763  0.02310923  0.00844923  0.03136069  0.00835426]\n",
       " [ 0.02018425 -0.00205736  0.02368148  0.01517256  0.02936829  0.01105657]\n",
       " [ 0.02180842  0.02542746  0.04244835 -0.00741896  0.03391297  0.00343686]\n",
       " [ 0.01190888  0.00480322  0.01914669  0.004719    0.01296413 -0.00054099]\n",
       " [ 0.01545303  0.00941906  0.02581433  0.01284648  0.00813204  0.00568986]]\n",
       "<NDArray 5x6 @cpu(0)>"
      ]
     },
     "execution_count": 122,
     "metadata": {},
     "output_type": "execute_result"
    }
   ],
   "source": [
    "# channels from forward rnn in last step of last layer\n",
    "final_output[:,:6]"
   ]
  },
  {
   "cell_type": "code",
   "execution_count": 123,
   "metadata": {},
   "outputs": [
    {
     "data": {
      "text/plain": [
       "\n",
       "[[ 0.00834884  0.22160307  0.16497645  0.17498061  0.17497027  0.16968904]\n",
       " [-0.00114159  0.02814094  0.06628538  0.18898237  0.02543253  0.16276605]\n",
       " [ 0.18560167  0.15380849  0.1863319   0.14486022  0.11376306  0.03071362]\n",
       " [ 0.05539425  0.09306861  0.21310844  0.12720783  0.08961899  0.15656401]\n",
       " [ 0.19248244  0.0284084   0.17106406  0.02503861  0.10314985  0.01844846]]\n",
       "<NDArray 5x6 @cpu(0)>"
      ]
     },
     "execution_count": 123,
     "metadata": {},
     "output_type": "execute_result"
    }
   ],
   "source": [
    "# channels from backward rnn in last step of last layer\n",
    "final_output[:,6:]"
   ]
  },
  {
   "cell_type": "code",
   "execution_count": 124,
   "metadata": {},
   "outputs": [
    {
     "data": {
      "text/plain": [
       "2"
      ]
     },
     "execution_count": 124,
     "metadata": {},
     "output_type": "execute_result"
    }
   ],
   "source": [
    "len(hid_states)"
   ]
  },
  {
   "cell_type": "code",
   "execution_count": 125,
   "metadata": {},
   "outputs": [
    {
     "data": {
      "text/plain": [
       "(4, 5, 6)"
      ]
     },
     "execution_count": 125,
     "metadata": {},
     "output_type": "execute_result"
    }
   ],
   "source": [
    "# hidden state\n",
    "hid_states[0].shape"
   ]
  },
  {
   "cell_type": "code",
   "execution_count": 126,
   "metadata": {},
   "outputs": [
    {
     "data": {
      "text/plain": [
       "(4, 5, 6)"
      ]
     },
     "execution_count": 126,
     "metadata": {},
     "output_type": "execute_result"
    }
   ],
   "source": [
    "# cell memeory\n",
    "hid_states[1].shape"
   ]
  },
  {
   "cell_type": "code",
   "execution_count": 127,
   "metadata": {},
   "outputs": [
    {
     "data": {
      "text/plain": [
       "\n",
       "[[[  1.03355674e-02   1.60647300e-03   1.32582430e-02   1.38146300e-02\n",
       "    -1.35828340e-02  -1.12173790e-02]\n",
       "  [  2.33832765e-02   1.31784236e-05   2.16201320e-02   2.42266501e-03\n",
       "    -9.80209676e-04  -1.19874710e-02]\n",
       "  [  1.59390830e-02   2.46383925e-03   5.02551533e-03   1.26088131e-02\n",
       "     4.33453452e-03  -2.34422293e-02]\n",
       "  [  1.38091547e-02   1.20086502e-02   4.43106666e-02   7.60523602e-03\n",
       "    -7.71074602e-03  -2.75092013e-02]\n",
       "  [  3.55932228e-02   8.30993708e-03   2.85629816e-02  -1.24422682e-03\n",
       "     5.16857579e-03   6.64406968e-03]]\n",
       "\n",
       " [[  9.75320395e-03   3.27899903e-02   3.42854112e-02   9.73990746e-03\n",
       "    -1.82624068e-02  -4.52016518e-02]\n",
       "  [  2.99503710e-02   4.22814377e-02   1.59972627e-02   3.10577378e-02\n",
       "     3.01205181e-03   3.97029473e-03]\n",
       "  [  2.96767391e-02   4.26794328e-02   1.73485801e-02   7.67373433e-03\n",
       "    -1.50409192e-02  -7.97832385e-03]\n",
       "  [  1.15076527e-02   4.02115956e-02   2.62511540e-02   3.11808214e-02\n",
       "     1.00480448e-02  -1.79561898e-02]\n",
       "  [  2.81295236e-02   1.49088129e-02   1.60030778e-02   1.24025326e-02\n",
       "     8.35588668e-03   2.95655499e-03]]\n",
       "\n",
       " [[  2.83631310e-02   6.06762525e-03   2.31092349e-02   8.44922755e-03\n",
       "     3.13606933e-02   8.35426152e-03]\n",
       "  [  2.01842543e-02  -2.05736188e-03   2.36814823e-02   1.51725616e-02\n",
       "     2.93682907e-02   1.10565666e-02]\n",
       "  [  2.18084231e-02   2.54274607e-02   4.24483493e-02  -7.41896452e-03\n",
       "     3.39129679e-02   3.43685737e-03]\n",
       "  [  1.19088804e-02   4.80322214e-03   1.91466939e-02   4.71899565e-03\n",
       "     1.29641332e-02  -5.40987705e-04]\n",
       "  [  1.54530313e-02   9.41905752e-03   2.58143283e-02   1.28464820e-02\n",
       "     8.13204236e-03   5.68986172e-03]]\n",
       "\n",
       " [[ -1.48457452e-03   3.18089016e-02   1.82165671e-02   2.33145989e-02\n",
       "     2.31107902e-02   2.43207645e-02]\n",
       "  [  1.66964065e-03   3.72249400e-03   5.29030990e-03   3.00214663e-02\n",
       "     3.36745591e-03   2.58545205e-02]\n",
       "  [  2.26373188e-02   1.61160342e-02   2.18012854e-02   2.28051282e-02\n",
       "     1.35889379e-02   7.35506508e-03]\n",
       "  [  8.59077554e-03   1.09937582e-02   2.30336953e-02   2.42186412e-02\n",
       "     9.13094357e-03   3.07112727e-02]\n",
       "  [  3.28385979e-02  -5.57339052e-04   1.98228229e-02   1.17306327e-02\n",
       "     9.41288937e-03   1.05329612e-02]]]\n",
       "<NDArray 4x5x6 @cpu(0)>"
      ]
     },
     "execution_count": 127,
     "metadata": {},
     "output_type": "execute_result"
    }
   ],
   "source": [
    "# combined forward and backward, then across stack, e.g.\n",
    "# [ L1_forward\n",
    "#   L1_backward,\n",
    "#   L2_forward,\n",
    "#   L2_backward ]\n",
    "hid_states[0]"
   ]
  },
  {
   "cell_type": "code",
   "execution_count": 128,
   "metadata": {},
   "outputs": [],
   "source": [
    "# take last two rows since bi-dir\n",
    "hid_last = hid_states[0][-2:,:]"
   ]
  },
  {
   "cell_type": "code",
   "execution_count": 129,
   "metadata": {},
   "outputs": [],
   "source": [
    "# first of row pair, to get forward\n",
    "hid_last_forward = hid_last[0]"
   ]
  },
  {
   "cell_type": "code",
   "execution_count": 130,
   "metadata": {},
   "outputs": [
    {
     "data": {
      "text/plain": [
       "\n",
       "[[ 0.02836313  0.00606763  0.02310923  0.00844923  0.03136069  0.00835426]\n",
       " [ 0.02018425 -0.00205736  0.02368148  0.01517256  0.02936829  0.01105657]\n",
       " [ 0.02180842  0.02542746  0.04244835 -0.00741896  0.03391297  0.00343686]\n",
       " [ 0.01190888  0.00480322  0.01914669  0.004719    0.01296413 -0.00054099]\n",
       " [ 0.01545303  0.00941906  0.02581433  0.01284648  0.00813204  0.00568986]]\n",
       "<NDArray 5x6 @cpu(0)>"
      ]
     },
     "execution_count": 130,
     "metadata": {},
     "output_type": "execute_result"
    }
   ],
   "source": [
    "# same as first 6 channels of last step output\n",
    "hid_last_forward"
   ]
  },
  {
   "cell_type": "code",
   "execution_count": 131,
   "metadata": {},
   "outputs": [],
   "source": [
    "first_output = outputs[0]"
   ]
  },
  {
   "cell_type": "code",
   "execution_count": 132,
   "metadata": {},
   "outputs": [
    {
     "data": {
      "text/plain": [
       "\n",
       "[[-0.00148457  0.0318089   0.01821657  0.0233146   0.02311079  0.02432076]\n",
       " [ 0.00166964  0.00372249  0.00529031  0.03002147  0.00336746  0.02585452]\n",
       " [ 0.02263732  0.01611603  0.02180129  0.02280513  0.01358894  0.00735507]\n",
       " [ 0.00859078  0.01099376  0.0230337   0.02421864  0.00913094  0.03071127]\n",
       " [ 0.0328386  -0.00055734  0.01982282  0.01173063  0.00941289  0.01053296]]\n",
       "<NDArray 5x6 @cpu(0)>"
      ]
     },
     "execution_count": 132,
     "metadata": {},
     "output_type": "execute_result"
    }
   ],
   "source": [
    "# last 6 channels of first step output\n",
    "first_output[:,6:]"
   ]
  },
  {
   "cell_type": "code",
   "execution_count": 133,
   "metadata": {},
   "outputs": [],
   "source": [
    "# second of row pair, to get backward\n",
    "hid_last_backward = hid_last[1]"
   ]
  },
  {
   "cell_type": "code",
   "execution_count": 134,
   "metadata": {},
   "outputs": [
    {
     "data": {
      "text/plain": [
       "\n",
       "[[-0.00148457  0.0318089   0.01821657  0.0233146   0.02311079  0.02432076]\n",
       " [ 0.00166964  0.00372249  0.00529031  0.03002147  0.00336746  0.02585452]\n",
       " [ 0.02263732  0.01611603  0.02180129  0.02280513  0.01358894  0.00735507]\n",
       " [ 0.00859078  0.01099376  0.0230337   0.02421864  0.00913094  0.03071127]\n",
       " [ 0.0328386  -0.00055734  0.01982282  0.01173063  0.00941289  0.01053296]]\n",
       "<NDArray 5x6 @cpu(0)>"
      ]
     },
     "execution_count": 134,
     "metadata": {},
     "output_type": "execute_result"
    }
   ],
   "source": [
    "hid_last_backward"
   ]
  }
 ],
 "metadata": {
  "kernelspec": {
   "display_name": "Python 3",
   "language": "python",
   "name": "python3"
  },
  "language_info": {
   "codemirror_mode": {
    "name": "ipython",
    "version": 3
   },
   "file_extension": ".py",
   "mimetype": "text/x-python",
   "name": "python",
   "nbconvert_exporter": "python",
   "pygments_lexer": "ipython3",
   "version": "3.6.8"
  }
 },
 "nbformat": 4,
 "nbformat_minor": 2
}
