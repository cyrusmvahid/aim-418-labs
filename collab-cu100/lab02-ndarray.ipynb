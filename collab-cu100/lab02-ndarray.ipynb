{
 "cells": [
  {
   "cell_type": "markdown",
   "metadata": {},
   "source": [
    "# change your runtime\n",
    "![](images/runtime1.png)\n",
    "![](images/runtime2.png)"
   ]
  },
  {
   "cell_type": "code",
   "execution_count": null,
   "metadata": {},
   "outputs": [],
   "source": [
    "#Please run this block if you would like to use GPU\n",
    "!apt update -qq;\n",
    "!wget https://developer.nvidia.com/compute/cuda/10.1/Prod/local_installers/cuda-repo-ubuntu1604-10-1-local-10.1.168-418.67_1.0-1_amd64.deb\n",
    "!dpkg -i cuda-repo-ubuntu1604-10-1-local-10.1.168-418.67_1.0-1_amd64.deb\n",
    "!apt-key add /var/cuda-repo-10-1-local-10.1.168-418.67/7fa2af80.pub\n",
    "!dpkg --configure -a\n",
    "!apt-get update\n",
    "!apt-get install cuda\n",
    "!pip install mxnet-cu100"
   ]
  },
  {
   "cell_type": "code",
   "execution_count": null,
   "metadata": {},
   "outputs": [],
   "source": [
    "# or run this for cpu only\n",
    "!pip install mxnet"
   ]
  },
  {
   "cell_type": "markdown",
   "metadata": {},
   "source": [
    "# NDArray\n",
    "The **`NDArray`** API, defined in the `ndarray` (or simply `nd`) package, provides imperative tensor operations on CPU/GPU. An **`NDArray`** represents a multi-dimensional, fixed-size homogenous array."
   ]
  },
  {
   "cell_type": "code",
   "execution_count": 1,
   "metadata": {},
   "outputs": [
    {
     "data": {
      "text/plain": [
       "'1.4.0'"
      ]
     },
     "execution_count": 1,
     "metadata": {},
     "output_type": "execute_result"
    }
   ],
   "source": [
    "import mxnet as mx\n",
    "from mxnet import nd\n",
    "import numpy as np\n",
    "mx.__version__"
   ]
  },
  {
   "cell_type": "code",
   "execution_count": 2,
   "metadata": {},
   "outputs": [
    {
     "data": {
      "text/plain": [
       "(\n",
       " [[ 1.  2.  3.]\n",
       "  [ 4.  5.  6.]]\n",
       " <NDArray 2x3 @cpu(0)>, (2, 3), cpu(0))"
      ]
     },
     "execution_count": 2,
     "metadata": {},
     "output_type": "execute_result"
    }
   ],
   "source": [
    "a = [[1,2,3],[4,5,6]]\n",
    "a = nd.array(a)\n",
    "(a, a.shape, a.context)"
   ]
  },
  {
   "cell_type": "code",
   "execution_count": 3,
   "metadata": {},
   "outputs": [
    {
     "data": {
      "text/plain": [
       "gpu(0)"
      ]
     },
     "execution_count": 3,
     "metadata": {},
     "output_type": "execute_result"
    }
   ],
   "source": [
    "#context change\n",
    "b = a.as_in_context(mx.gpu(0))\n",
    "b.context"
   ]
  },
  {
   "cell_type": "code",
   "execution_count": 4,
   "metadata": {},
   "outputs": [
    {
     "data": {
      "text/plain": [
       "gpu(1)"
      ]
     },
     "execution_count": 4,
     "metadata": {},
     "output_type": "execute_result"
    }
   ],
   "source": [
    "#context change\n",
    "c = b.as_in_context(mx.gpu(1))\n",
    "c.context"
   ]
  },
  {
   "cell_type": "code",
   "execution_count": 5,
   "metadata": {},
   "outputs": [
    {
     "data": {
      "text/plain": [
       "\n",
       "[[  1.   4.   9.]\n",
       " [ 16.  25.  36.]]\n",
       "<NDArray 2x3 @gpu(0)>"
      ]
     },
     "execution_count": 5,
     "metadata": {},
     "output_type": "execute_result"
    }
   ],
   "source": [
    "#b * c\n",
    "b * c.as_in_context(b.context)"
   ]
  },
  {
   "cell_type": "markdown",
   "metadata": {},
   "source": [
    "## Pairwise operators\n",
    "$$\n",
    "\\begin{bmatrix}\n",
    "    x_{1,1} & \\dots  & x_{1,m}\\\\\n",
    "    x_{2,1} & \\dots  & x_{2,m}\\\\\n",
    "    \\vdots  & \\vdots & \\vdots\\\\\n",
    "    x_{n,1} & ... & x_{n,m}\\\\\n",
    "\\end{bmatrix}_{n \\times m}\n",
    "*\n",
    "\\begin{bmatrix}\n",
    "    y_{1,1} & \\dots  & y_{1,m}\\\\\n",
    "    y_{2,1} & \\dots  & y_{2,m}\\\\\n",
    "    \\vdots  & \\vdots & \\vdots\\\\\n",
    "    y_{n,1} & ... & y_{n,m}\\\\\n",
    "\\end{bmatrix}_{n \\times m}\n",
    "=\n",
    "\\begin{bmatrix}\n",
    "    x_{i,1}y_{i,1} & \\dots  & x_{1,m}y_{i,m}\\\\\n",
    "    x_{2,1}y_{2,1} & \\dots  & x_{2,m}y_{2,m}\\\\\n",
    "    \\vdots  & \\vdots & \\vdots\\\\\n",
    "    x_{n,1}y_{n,1} & ... & x_{n,m}y_{n,m}\\\\\n",
    "\\end{bmatrix}_{n \\times m}\n",
    "$$\n"
   ]
  },
  {
   "cell_type": "code",
   "execution_count": 6,
   "metadata": {
    "scrolled": true
   },
   "outputs": [
    {
     "name": "stdout",
     "output_type": "stream",
     "text": [
      "a+b= \n",
      "[[  2.   4.   6.]\n",
      " [  8.  10.  12.]]\n",
      "<NDArray 2x3 @cpu(0)>;\n",
      "a*b= \n",
      "[[  1.   4.   9.]\n",
      " [ 16.  25.  36.]]\n",
      "<NDArray 2x3 @cpu(0)>;\n",
      "a-b= \n",
      "[[ 0.  0.  0.]\n",
      " [ 0.  0.  0.]]\n",
      "<NDArray 2x3 @cpu(0)>;\n",
      "a/b=\n",
      "[[ 1.  1.  1.]\n",
      " [ 1.  1.  1.]]\n",
      "<NDArray 2x3 @cpu(0)>;\n"
     ]
    }
   ],
   "source": [
    "a = nd.array(a)\n",
    "b = nd.array(a)\n",
    "print(\"a+b= {};\\na*b= {};\\na-b= {};\\na/b={};\".format(a+b, a*b, a-b, a/b))"
   ]
  },
  {
   "cell_type": "code",
   "execution_count": 7,
   "metadata": {},
   "outputs": [
    {
     "data": {
      "text/plain": [
       "\n",
       "[[  1.   4.   9.]\n",
       " [ 16.  25.  36.]]\n",
       "<NDArray 2x3 @cpu(0)>"
      ]
     },
     "execution_count": 7,
     "metadata": {},
     "output_type": "execute_result"
    }
   ],
   "source": [
    "#b * c\n",
    "b * c.as_in_context(b.context)"
   ]
  },
  {
   "cell_type": "markdown",
   "metadata": {},
   "source": [
    "# Dot Product\n",
    "$$\n",
    "X=\\begin{bmatrix}\n",
    "    x_{1,0} & \\dots  & x_{1,m}\\\\\n",
    "    x_{2,0} & \\dots  & x_{2,m}\\\\\n",
    "    \\vdots  & \\vdots & \\vdots\\\\\n",
    "    x_{n,0} & ... & x_{n,m}\\\\\n",
    "\\end{bmatrix}_{n \\times m}\n",
    ".\n",
    "\\begin{bmatrix}\n",
    "    y_{1,1} & \\dots  & y_{1,k}\\\\\n",
    "    y_{2,1} & \\dots  & y_{2,k}\\\\\n",
    "    \\vdots  & \\vdots & \\vdots\\\\\n",
    "    y_{m,1} & ... & y_{m,k}\\\\\n",
    "\\end{bmatrix}_{m \\times k}\n",
    "=\n",
    "Z_{m \\times k}; \\ where\\ z_{i,j} = x_{i1}y_{1j} + \\dots + x_{im}y_{1m} = \\sum_{k=1}^m{x_{ik}y_{kj}}\n",
    "$$\n",
    "<img src=\"../img/Inner-product-angle.svg\" width=\"200\" height=\"200\" align=\"center\"/>\n",
    "[source](https://en.wikipedia.org/wiki/Dot_product#/media/File:Inner-product-angle.svg)\n",
    "$$\n",
    "X.Y = |X|.|Y|.cos(\\theta)\n",
    "$$"
   ]
  },
  {
   "attachments": {
    "image.png": {
     "image/png": "[encoded data removed]"
    }
   },
   "cell_type": "markdown",
   "metadata": {},
   "source": [
    "![image.png](attachment:image.png)"
   ]
  },
  {
   "cell_type": "code",
   "execution_count": 8,
   "metadata": {},
   "outputs": [
    {
     "data": {
      "text/plain": [
       "((2, 3), (2, 3))"
      ]
     },
     "execution_count": 8,
     "metadata": {},
     "output_type": "execute_result"
    }
   ],
   "source": [
    "(a.shape, a.shape)"
   ]
  },
  {
   "cell_type": "code",
   "execution_count": 9,
   "metadata": {},
   "outputs": [
    {
     "data": {
      "text/plain": [
       "(3, 2)"
      ]
     },
     "execution_count": 9,
     "metadata": {},
     "output_type": "execute_result"
    }
   ],
   "source": [
    "a.T.shape"
   ]
  },
  {
   "cell_type": "code",
   "execution_count": 10,
   "metadata": {},
   "outputs": [
    {
     "data": {
      "text/plain": [
       "(\n",
       " [[ 14.  32.]\n",
       "  [ 32.  77.]]\n",
       " <NDArray 2x2 @cpu(0)>, (2, 2))"
      ]
     },
     "execution_count": 10,
     "metadata": {},
     "output_type": "execute_result"
    }
   ],
   "source": [
    "b = nd.dot(a,a.T) \n",
    "(b, b.shape)"
   ]
  },
  {
   "cell_type": "code",
   "execution_count": 11,
   "metadata": {},
   "outputs": [
    {
     "name": "stdout",
     "output_type": "stream",
     "text": [
      "\n",
      "[[  1.   2.]\n",
      " [  3.   4.]\n",
      " [  5.   6.]\n",
      " [  7.   8.]\n",
      " [  9.  10.]\n",
      " [ 11.  12.]]\n",
      "<NDArray 6x2 @cpu(0)>\n",
      "\n",
      "[[[  1.   2.   3.]\n",
      "  [  4.   5.   6.]]\n",
      "\n",
      " [[  7.   8.   9.]\n",
      "  [ 10.  11.  12.]]]\n",
      "<NDArray 2x2x3 @cpu(0)>\n"
     ]
    },
    {
     "data": {
      "text/plain": [
       "\n",
       "[[[  1.   4.]\n",
       "  [  7.  10.]]\n",
       "\n",
       " [[  2.   5.]\n",
       "  [  8.  11.]]\n",
       "\n",
       " [[  3.   6.]\n",
       "  [  9.  12.]]]\n",
       "<NDArray 3x2x2 @cpu(0)>"
      ]
     },
     "execution_count": 11,
     "metadata": {},
     "output_type": "execute_result"
    }
   ],
   "source": [
    "a = [[1,2],[3,4],[5,6], [7,8],[9,10],[11,12]]\n",
    "a = nd.array(a)\n",
    "print(a)\n",
    "a = a.reshape((2,2,3))\n",
    "print(a)\n",
    "a.transpose((2,0,1))"
   ]
  },
  {
   "cell_type": "code",
   "execution_count": 12,
   "metadata": {},
   "outputs": [
    {
     "data": {
      "text/plain": [
       "\n",
       "[[ 1.  1.  1.  1.  1.]\n",
       " [ 1.  1.  1.  1.  1.]\n",
       " [ 1.  1.  1.  1.  1.]\n",
       " [ 1.  1.  1.  1.  1.]]\n",
       "<NDArray 4x5 @cpu(0)>"
      ]
     },
     "execution_count": 12,
     "metadata": {},
     "output_type": "execute_result"
    }
   ],
   "source": [
    "nd.ones(shape=(4,5))"
   ]
  },
  {
   "cell_type": "code",
   "execution_count": 13,
   "metadata": {},
   "outputs": [
    {
     "data": {
      "text/plain": [
       "\n",
       "[[ 0.  0.  0.  0.  0.]\n",
       " [ 0.  0.  0.  0.  0.]\n",
       " [ 0.  0.  0.  0.  0.]\n",
       " [ 0.  0.  0.  0.  0.]]\n",
       "<NDArray 4x5 @cpu(0)>"
      ]
     },
     "execution_count": 13,
     "metadata": {},
     "output_type": "execute_result"
    }
   ],
   "source": [
    "nd.zeros((4,5))"
   ]
  },
  {
   "cell_type": "code",
   "execution_count": 30,
   "metadata": {},
   "outputs": [
    {
     "data": {
      "text/plain": [
       "\n",
       "[[  7.61589885e-01   9.91063134e-05  -5.14313877e-01   1.71984720e+00\n",
       "   -1.14942983e-01]\n",
       " [  1.56177032e+00   1.11169040e+00   1.49358046e+00   5.36799669e-01\n",
       "   -1.32518756e+00]\n",
       " [ -6.47440076e-01  -5.52033365e-01   1.00643530e-01  -3.31823856e-01\n",
       "    4.94534224e-01]\n",
       " [  7.19802499e-01  -3.29525560e-01  -5.17583132e-01   7.23132491e-01\n",
       "    1.44181061e+00]]\n",
       "<NDArray 4x5 @cpu(0)>"
      ]
     },
     "execution_count": 30,
     "metadata": {},
     "output_type": "execute_result"
    }
   ],
   "source": [
    "data = nd.random.normal(loc=0, scale=1, shape=(4,5), )\n",
    "data"
   ]
  },
  {
   "cell_type": "code",
   "execution_count": 31,
   "metadata": {},
   "outputs": [
    {
     "data": {
      "text/plain": [
       "\n",
       "[ 3.  0.  4.  4.]\n",
       "<NDArray 4 @cpu(0)>"
      ]
     },
     "execution_count": 31,
     "metadata": {},
     "output_type": "execute_result"
    }
   ],
   "source": [
    "data.argmax(axis=1)"
   ]
  },
  {
   "cell_type": "markdown",
   "metadata": {},
   "source": [
    "# NDArray to numpu"
   ]
  },
  {
   "cell_type": "code",
   "execution_count": 32,
   "metadata": {},
   "outputs": [
    {
     "data": {
      "text/plain": [
       "numpy.ndarray"
      ]
     },
     "execution_count": 32,
     "metadata": {},
     "output_type": "execute_result"
    }
   ],
   "source": [
    "datanp = data.reshape((1,20)).asnumpy()\n",
    "type(datanp)\n"
   ]
  },
  {
   "cell_type": "code",
   "execution_count": 33,
   "metadata": {},
   "outputs": [],
   "source": [
    "import matplotlib.pyplot as plt\n",
    "def f(x):\n",
    "    return 2 * x*x"
   ]
  },
  {
   "cell_type": "code",
   "execution_count": 43,
   "metadata": {},
   "outputs": [
    {
     "data": {
      "image/png": "[encoded data removed]",
      "text/plain": [
       "<Figure size 432x288 with 1 Axes>"
      ]
     },
     "metadata": {},
     "output_type": "display_data"
    }
   ],
   "source": [
    "\n",
    "plt.scatter(datanp, f(datanp))\n",
    "plt.show()"
   ]
  },
  {
   "cell_type": "markdown",
   "metadata": {},
   "source": [
    "# Challenge\n",
    "- Create an `NDArray` of dimension $1 \\times 1000$ and initialzie it with random uniform distribution.\n",
    "- Create function $f(x) = 3x*2 + 5$\n",
    "- Plot $(x,f(x))$"
   ]
  }
 ],
 "metadata": {
  "kernelspec": {
   "display_name": "Python 3",
   "language": "python",
   "name": "python3"
  },
  "language_info": {
   "codemirror_mode": {
    "name": "ipython",
    "version": 3
   },
   "file_extension": ".py",
   "mimetype": "text/x-python",
   "name": "python",
   "nbconvert_exporter": "python",
   "pygments_lexer": "ipython3",
   "version": "3.6.8"
  }
 },
 "nbformat": 4,
 "nbformat_minor": 2
}
