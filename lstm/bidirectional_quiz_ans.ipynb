{
 "cells": [
  {
   "cell_type": "code",
   "execution_count": 1,
   "metadata": {},
   "outputs": [],
   "source": [
    "import mxnet as mx"
   ]
  },
  {
   "cell_type": "code",
   "execution_count": 2,
   "metadata": {},
   "outputs": [],
   "source": [
    "sequence_length = 4\n",
    "batch_size = 5\n",
    "channels = 3"
   ]
  },
  {
   "cell_type": "code",
   "execution_count": 3,
   "metadata": {},
   "outputs": [],
   "source": [
    "inputs = mx.nd.random.uniform(shape=(sequence_length, batch_size, channels))"
   ]
  },
  {
   "cell_type": "code",
   "execution_count": 4,
   "metadata": {},
   "outputs": [],
   "source": [
    "hid_units = 6"
   ]
  },
  {
   "cell_type": "markdown",
   "metadata": {},
   "source": [
    "#### Part 0: Create Stacked Bi-directional LSTM"
   ]
  },
  {
   "cell_type": "code",
   "execution_count": 5,
   "metadata": {},
   "outputs": [],
   "source": [
    "hid_layers = 2\n",
    "bidirectional = True"
   ]
  },
  {
   "cell_type": "code",
   "execution_count": 6,
   "metadata": {},
   "outputs": [],
   "source": [
    "stack_bidir_lstm = mx.gluon.rnn.LSTM(hidden_size=hid_units, num_layers=hid_layers, layout='TNC', bidirectional=bidirectional)\n",
    "stack_bidir_lstm.initialize()"
   ]
  },
  {
   "cell_type": "code",
   "execution_count": 7,
   "metadata": {},
   "outputs": [],
   "source": [
    "# 2 * hid_layers (since bi-directional)\n",
    "hid_init_h = mx.nd.random.uniform(shape=(2*hid_layers, batch_size, hid_units))\n",
    "hid_init_c = mx.nd.random.uniform(shape=(2*hid_layers, batch_size, hid_units))\n",
    "hid_init = [hid_init_h, hid_init_c]\n",
    "outputs, hid_states = stack_bidir_lstm(inputs, hid_init)"
   ]
  },
  {
   "cell_type": "markdown",
   "metadata": {},
   "source": [
    "#### Part 1: Show equality between:\n",
    "\n",
    "A. first 6 channels of output in last time step\n",
    "\n",
    "B. last hidden state of forward lstm in last layer"
   ]
  },
  {
   "cell_type": "code",
   "execution_count": 8,
   "metadata": {},
   "outputs": [
    {
     "data": {
      "text/plain": [
       "\n",
       "[[ 0.00280006  0.00131526  0.02154032 -0.00737004 -0.00082009  0.02088503]\n",
       " [ 0.01521961  0.01984186  0.02294893  0.01894835  0.01945606  0.01656748]\n",
       " [ 0.0041332   0.01020547  0.0035636   0.01056547  0.0121406   0.01093003]\n",
       " [ 0.01794787  0.02096532  0.03129815 -0.00915075  0.01891881  0.01848382]\n",
       " [-0.00269367  0.01555081  0.00915592  0.01482278  0.00926654  0.02081262]]\n",
       "<NDArray 5x6 @cpu(0)>"
      ]
     },
     "execution_count": 8,
     "metadata": {},
     "output_type": "execute_result"
    }
   ],
   "source": [
    "final_output = outputs[-1]\n",
    "final_output_slice = final_output[:,:6]\n",
    "final_output_slice"
   ]
  },
  {
   "cell_type": "code",
   "execution_count": 9,
   "metadata": {},
   "outputs": [
    {
     "data": {
      "text/plain": [
       "\n",
       "[[ 0.00280006  0.00131526  0.02154032 -0.00737004 -0.00082009  0.02088503]\n",
       " [ 0.01521961  0.01984186  0.02294893  0.01894835  0.01945606  0.01656748]\n",
       " [ 0.0041332   0.01020547  0.0035636   0.01056547  0.0121406   0.01093003]\n",
       " [ 0.01794787  0.02096532  0.03129815 -0.00915075  0.01891881  0.01848382]\n",
       " [-0.00269367  0.01555081  0.00915592  0.01482278  0.00926654  0.02081262]]\n",
       "<NDArray 5x6 @cpu(0)>"
      ]
     },
     "execution_count": 9,
     "metadata": {},
     "output_type": "execute_result"
    }
   ],
   "source": [
    "hid_last_layer = hid_states[0][-2:]\n",
    "hid_last_layer_forw = hid_last_layer[0]\n",
    "hid_last_layer_forw"
   ]
  },
  {
   "cell_type": "code",
   "execution_count": 10,
   "metadata": {},
   "outputs": [
    {
     "data": {
      "text/plain": [
       "\n",
       "[[ 1.  1.  1.  1.  1.  1.]\n",
       " [ 1.  1.  1.  1.  1.  1.]\n",
       " [ 1.  1.  1.  1.  1.  1.]\n",
       " [ 1.  1.  1.  1.  1.  1.]\n",
       " [ 1.  1.  1.  1.  1.  1.]]\n",
       "<NDArray 5x6 @cpu(0)>"
      ]
     },
     "execution_count": 10,
     "metadata": {},
     "output_type": "execute_result"
    }
   ],
   "source": [
    "mx.nd.equal(final_output_slice, hid_last_layer_forw)"
   ]
  },
  {
   "cell_type": "markdown",
   "metadata": {},
   "source": [
    "#### Part 2: Show equality between:\n",
    "\n",
    "A. last 6 channels of output in first time step\n",
    "\n",
    "B. last hidden state of backward lstm in last layer"
   ]
  },
  {
   "cell_type": "code",
   "execution_count": 11,
   "metadata": {},
   "outputs": [
    {
     "data": {
      "text/plain": [
       "\n",
       "[[ 0.02874257  0.00842749  0.01191495  0.02792466  0.01095112  0.00856404]\n",
       " [ 0.02944191 -0.00884817  0.00251383  0.03231068  0.00370614  0.01290814]\n",
       " [ 0.01387642 -0.00066042  0.00942638  0.00545881  0.01227141  0.01775667]\n",
       " [ 0.02688004  0.01613665  0.01236364  0.01626807  0.00266924  0.02035296]\n",
       " [ 0.03239724 -0.00368664 -0.00626667  0.0165406  -0.00502696  0.00558209]]\n",
       "<NDArray 5x6 @cpu(0)>"
      ]
     },
     "execution_count": 11,
     "metadata": {},
     "output_type": "execute_result"
    }
   ],
   "source": [
    "first_output = outputs[0]\n",
    "first_output_slice = first_output[:,6:]\n",
    "first_output_slice"
   ]
  },
  {
   "cell_type": "code",
   "execution_count": 12,
   "metadata": {},
   "outputs": [
    {
     "data": {
      "text/plain": [
       "\n",
       "[[ 0.02874257  0.00842749  0.01191495  0.02792466  0.01095112  0.00856404]\n",
       " [ 0.02944191 -0.00884817  0.00251383  0.03231068  0.00370614  0.01290814]\n",
       " [ 0.01387642 -0.00066042  0.00942638  0.00545881  0.01227141  0.01775667]\n",
       " [ 0.02688004  0.01613665  0.01236364  0.01626807  0.00266924  0.02035296]\n",
       " [ 0.03239724 -0.00368664 -0.00626667  0.0165406  -0.00502696  0.00558209]]\n",
       "<NDArray 5x6 @cpu(0)>"
      ]
     },
     "execution_count": 12,
     "metadata": {},
     "output_type": "execute_result"
    }
   ],
   "source": [
    "hid_last_layer = hid_states[0][-2:]\n",
    "hid_last_layer_back = hid_last_layer[1]\n",
    "hid_last_layer_back"
   ]
  },
  {
   "cell_type": "code",
   "execution_count": 13,
   "metadata": {},
   "outputs": [
    {
     "data": {
      "text/plain": [
       "\n",
       "[[ 1.  1.  1.  1.  1.  1.]\n",
       " [ 1.  1.  1.  1.  1.  1.]\n",
       " [ 1.  1.  1.  1.  1.  1.]\n",
       " [ 1.  1.  1.  1.  1.  1.]\n",
       " [ 1.  1.  1.  1.  1.  1.]]\n",
       "<NDArray 5x6 @cpu(0)>"
      ]
     },
     "execution_count": 13,
     "metadata": {},
     "output_type": "execute_result"
    }
   ],
   "source": [
    "mx.nd.equal(first_output_slice, hid_last_layer_back)"
   ]
  },
  {
   "cell_type": "code",
   "execution_count": null,
   "metadata": {},
   "outputs": [],
   "source": []
  }
 ],
 "metadata": {
  "kernelspec": {
   "display_name": "Environment (conda_mxnet_p36)",
   "language": "python",
   "name": "conda_mxnet_p36"
  },
  "language_info": {
   "codemirror_mode": {
    "name": "ipython",
    "version": 3
   },
   "file_extension": ".py",
   "mimetype": "text/x-python",
   "name": "python",
   "nbconvert_exporter": "python",
   "pygments_lexer": "ipython3",
   "version": "3.6.4"
  }
 },
 "nbformat": 4,
 "nbformat_minor": 2
}
